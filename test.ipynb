{
 "cells": [
  {
   "cell_type": "code",
   "execution_count": 1,
   "metadata": {},
   "outputs": [
    {
     "name": "stdout",
     "output_type": "stream",
     "text": [
      "Requirement already satisfied: decorator in /home/kumkum/miniforge3/envs/gemini/lib/python3.10/site-packages (5.2.1)\n",
      "Note: you may need to restart the kernel to use updated packages.\n"
     ]
    }
   ],
   "source": [
    "pip install decorator"
   ]
  },
  {
   "cell_type": "code",
   "execution_count": 3,
   "metadata": {},
   "outputs": [
    {
     "name": "stdout",
     "output_type": "stream",
     "text": [
      "models/embedding-gecko-001 => ['embedText', 'countTextTokens']\n",
      "models/gemini-1.0-pro-vision-latest => ['generateContent', 'countTokens']\n",
      "models/gemini-pro-vision => ['generateContent', 'countTokens']\n",
      "models/gemini-1.5-pro-latest => ['generateContent', 'countTokens']\n",
      "models/gemini-1.5-pro-002 => ['generateContent', 'countTokens', 'createCachedContent']\n",
      "models/gemini-1.5-pro => ['generateContent', 'countTokens']\n",
      "models/gemini-1.5-flash-latest => ['generateContent', 'countTokens']\n",
      "models/gemini-1.5-flash => ['generateContent', 'countTokens']\n",
      "models/gemini-1.5-flash-002 => ['generateContent', 'countTokens', 'createCachedContent']\n",
      "models/gemini-1.5-flash-8b => ['createCachedContent', 'generateContent', 'countTokens']\n",
      "models/gemini-1.5-flash-8b-001 => ['createCachedContent', 'generateContent', 'countTokens']\n",
      "models/gemini-1.5-flash-8b-latest => ['createCachedContent', 'generateContent', 'countTokens']\n",
      "models/gemini-2.5-pro-exp-03-25 => ['generateContent', 'countTokens', 'createCachedContent', 'batchGenerateContent']\n",
      "models/gemini-2.5-pro-preview-03-25 => ['generateContent', 'countTokens', 'createCachedContent', 'batchGenerateContent']\n",
      "models/gemini-2.5-flash-preview-04-17 => ['generateContent', 'countTokens', 'createCachedContent', 'batchGenerateContent']\n",
      "models/gemini-2.5-flash-preview-05-20 => ['generateContent', 'countTokens', 'createCachedContent', 'batchGenerateContent']\n",
      "models/gemini-2.5-flash => ['generateContent', 'countTokens', 'createCachedContent', 'batchGenerateContent']\n",
      "models/gemini-2.5-flash-preview-04-17-thinking => ['generateContent', 'countTokens', 'createCachedContent', 'batchGenerateContent']\n",
      "models/gemini-2.5-flash-lite-preview-06-17 => ['generateContent', 'countTokens', 'createCachedContent', 'batchGenerateContent']\n",
      "models/gemini-2.5-pro-preview-05-06 => ['generateContent', 'countTokens', 'createCachedContent', 'batchGenerateContent']\n",
      "models/gemini-2.5-pro-preview-06-05 => ['generateContent', 'countTokens', 'createCachedContent', 'batchGenerateContent']\n",
      "models/gemini-2.5-pro => ['generateContent', 'countTokens', 'createCachedContent', 'batchGenerateContent']\n",
      "models/gemini-2.0-flash-exp => ['generateContent', 'countTokens', 'bidiGenerateContent']\n",
      "models/gemini-2.0-flash => ['generateContent', 'countTokens', 'createCachedContent', 'batchGenerateContent']\n",
      "models/gemini-2.0-flash-001 => ['generateContent', 'countTokens', 'createCachedContent', 'batchGenerateContent']\n",
      "models/gemini-2.0-flash-exp-image-generation => ['generateContent', 'countTokens', 'bidiGenerateContent']\n",
      "models/gemini-2.0-flash-lite-001 => ['generateContent', 'countTokens', 'createCachedContent', 'batchGenerateContent']\n",
      "models/gemini-2.0-flash-lite => ['generateContent', 'countTokens', 'createCachedContent', 'batchGenerateContent']\n",
      "models/gemini-2.0-flash-preview-image-generation => ['generateContent', 'countTokens']\n",
      "models/gemini-2.0-flash-lite-preview-02-05 => ['generateContent', 'countTokens', 'createCachedContent', 'batchGenerateContent']\n",
      "models/gemini-2.0-flash-lite-preview => ['generateContent', 'countTokens', 'createCachedContent', 'batchGenerateContent']\n",
      "models/gemini-2.0-pro-exp => ['generateContent', 'countTokens', 'createCachedContent', 'batchGenerateContent']\n",
      "models/gemini-2.0-pro-exp-02-05 => ['generateContent', 'countTokens', 'createCachedContent', 'batchGenerateContent']\n",
      "models/gemini-exp-1206 => ['generateContent', 'countTokens', 'createCachedContent', 'batchGenerateContent']\n",
      "models/gemini-2.0-flash-thinking-exp-01-21 => ['generateContent', 'countTokens', 'createCachedContent', 'batchGenerateContent']\n",
      "models/gemini-2.0-flash-thinking-exp => ['generateContent', 'countTokens', 'createCachedContent', 'batchGenerateContent']\n",
      "models/gemini-2.0-flash-thinking-exp-1219 => ['generateContent', 'countTokens', 'createCachedContent', 'batchGenerateContent']\n",
      "models/gemini-2.5-flash-preview-tts => ['countTokens', 'generateContent']\n",
      "models/gemini-2.5-pro-preview-tts => ['countTokens', 'generateContent']\n",
      "models/learnlm-2.0-flash-experimental => ['generateContent', 'countTokens']\n",
      "models/gemma-3-1b-it => ['generateContent', 'countTokens']\n",
      "models/gemma-3-4b-it => ['generateContent', 'countTokens']\n",
      "models/gemma-3-12b-it => ['generateContent', 'countTokens']\n",
      "models/gemma-3-27b-it => ['generateContent', 'countTokens']\n",
      "models/gemma-3n-e4b-it => ['generateContent', 'countTokens']\n",
      "models/embedding-001 => ['embedContent']\n",
      "models/text-embedding-004 => ['embedContent']\n",
      "models/gemini-embedding-exp-03-07 => ['embedContent', 'countTextTokens', 'countTokens']\n",
      "models/gemini-embedding-exp => ['embedContent', 'countTextTokens', 'countTokens']\n",
      "models/aqa => ['generateAnswer']\n",
      "models/imagen-3.0-generate-002 => ['predict']\n",
      "models/veo-2.0-generate-001 => ['predictLongRunning']\n",
      "models/gemini-2.5-flash-preview-native-audio-dialog => ['countTokens', 'bidiGenerateContent']\n",
      "models/gemini-2.5-flash-preview-native-audio-dialog-rai-v3 => ['countTokens', 'bidiGenerateContent']\n",
      "models/gemini-2.5-flash-exp-native-audio-thinking-dialog => ['countTokens', 'bidiGenerateContent']\n",
      "models/gemini-2.0-flash-live-001 => ['bidiGenerateContent', 'countTokens']\n"
     ]
    }
   ],
   "source": [
    "import google.generativeai as genai\n",
    "genai.configure(api_key=\"xyz\")\n",
    "\n",
    "models = genai.list_models()\n",
    "for m in models:\n",
    "    print(m.name, \"=>\", m.supported_generation_methods)\n"
   ]
  }
 ],
 "metadata": {
  "kernelspec": {
   "display_name": "Python 3.10.18 ('gemini')",
   "language": "python",
   "name": "python3"
  },
  "language_info": {
   "codemirror_mode": {
    "name": "ipython",
    "version": 3
   },
   "file_extension": ".py",
   "mimetype": "text/x-python",
   "name": "python",
   "nbconvert_exporter": "python",
   "pygments_lexer": "ipython3",
   "version": "3.10.18"
  },
  "orig_nbformat": 4,
  "vscode": {
   "interpreter": {
    "hash": "5549ad2f0df53456b59105b1e26e6536f8271c8655dd38c31213d82690534216"
   }
  }
 },
 "nbformat": 4,
 "nbformat_minor": 2
}
